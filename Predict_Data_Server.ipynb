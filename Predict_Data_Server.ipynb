{
  "nbformat": 4,
  "nbformat_minor": 0,
  "metadata": {
    "colab": {
      "name": "Predict Data Server",
      "provenance": [],
      "collapsed_sections": []
    },
    "kernelspec": {
      "name": "python3",
      "display_name": "Python 3"
    }
  },
  "cells": [
    {
      "cell_type": "markdown",
      "metadata": {
        "id": "dypGaKWZo6X5",
        "colab_type": "text"
      },
      "source": [
        "PREDICT DATA SERVER\n",
        "\n",
        "---\n",
        "Connect to drive\n"
      ]
    },
    {
      "cell_type": "code",
      "metadata": {
        "id": "SsJs2vz-_lPb",
        "colab_type": "code",
        "colab": {
          "base_uri": "https://localhost:8080/",
          "height": 128
        },
        "outputId": "180c0c96-e805-4f6a-9342-43b5e9b04f8d"
      },
      "source": [
        "from google.colab import drive\n",
        "drive.mount('/content/drive/')"
      ],
      "execution_count": 1,
      "outputs": [
        {
          "output_type": "stream",
          "text": [
            "Go to this URL in a browser: https://accounts.google.com/o/oauth2/auth?client_id=947318989803-6bn6qk8qdgf4n4g3pfee6491hc0brc4i.apps.googleusercontent.com&redirect_uri=urn%3aietf%3awg%3aoauth%3a2.0%3aoob&response_type=code&scope=email%20https%3a%2f%2fwww.googleapis.com%2fauth%2fdocs.test%20https%3a%2f%2fwww.googleapis.com%2fauth%2fdrive%20https%3a%2f%2fwww.googleapis.com%2fauth%2fdrive.photos.readonly%20https%3a%2f%2fwww.googleapis.com%2fauth%2fpeopleapi.readonly\n",
            "\n",
            "Enter your authorization code:\n",
            "··········\n",
            "Mounted at /content/drive/\n"
          ],
          "name": "stdout"
        }
      ]
    },
    {
      "cell_type": "markdown",
      "metadata": {
        "id": "Dug_Mh9MpGyG",
        "colab_type": "text"
      },
      "source": [
        "Unzip data"
      ]
    },
    {
      "cell_type": "code",
      "metadata": {
        "id": "GltdDR0tBSnr",
        "colab_type": "code",
        "colab": {
          "base_uri": "https://localhost:8080/",
          "height": 90
        },
        "outputId": "55a30a1f-5b17-438e-c6f7-daadc474b53c"
      },
      "source": [
        "!unzip '/content/drive/My Drive/Colab Notebooks/Final Project/Predict_Server.zip'"
      ],
      "execution_count": 2,
      "outputs": [
        {
          "output_type": "stream",
          "text": [
            "Archive:  /content/drive/My Drive/Colab Notebooks/Final Project/Predict_Server.zip\n",
            "  inflating: sample_submission.csv   \n",
            "  inflating: test_id.csv             \n",
            "  inflating: train.csv               \n"
          ],
          "name": "stdout"
        }
      ]
    },
    {
      "cell_type": "markdown",
      "metadata": {
        "id": "sQAXsdj_pMYz",
        "colab_type": "text"
      },
      "source": [
        "Import library"
      ]
    },
    {
      "cell_type": "code",
      "metadata": {
        "id": "sAMR5DrJBe68",
        "colab_type": "code",
        "colab": {}
      },
      "source": [
        "import pandas as pd\n",
        "import numpy as np\n",
        "import tensorflow as tf\n",
        "import matplotlib.pyplot as plt\n",
        "from sklearn.model_selection import train_test_split\n"
      ],
      "execution_count": 3,
      "outputs": []
    },
    {
      "cell_type": "markdown",
      "metadata": {
        "id": "6dYQ4nCSpR0g",
        "colab_type": "text"
      },
      "source": [
        "Read data train and data test for predict"
      ]
    },
    {
      "cell_type": "code",
      "metadata": {
        "id": "c5ttWcZeBhvj",
        "colab_type": "code",
        "colab": {
          "base_uri": "https://localhost:8080/",
          "height": 35
        },
        "outputId": "7c3cdd83-77fa-4e17-b51f-e1e8c49d3bbd"
      },
      "source": [
        "df_train = pd.read_csv('/content/train.csv')\n",
        "df_test = pd.read_csv('/content/test_id.csv')\n",
        "print(df_train.shape, df_test.shape)"
      ],
      "execution_count": 4,
      "outputs": [
        {
          "output_type": "stream",
          "text": [
            "(35544, 5) (2226, 4)\n"
          ],
          "name": "stdout"
        }
      ]
    },
    {
      "cell_type": "code",
      "metadata": {
        "id": "YX0DEdGyB0bK",
        "colab_type": "code",
        "colab": {
          "base_uri": "https://localhost:8080/",
          "height": 235
        },
        "outputId": "1e83f9ce-d4f9-453b-ac98-96ec05eba9a7"
      },
      "source": [
        "print(df_train.head())\n",
        "df_train.isnull().sum()"
      ],
      "execution_count": 5,
      "outputs": [
        {
          "output_type": "stream",
          "text": [
            "  UPDATE_TIME ZONE_CODE  HOUR_ID  BANDWIDTH_TOTAL  MAX_USER\n",
            "0  2017-10-01    ZONE01        0     16096.710313  212415.0\n",
            "1  2017-10-01    ZONE01        1      9374.207907  166362.0\n",
            "2  2017-10-01    ZONE01        2      5606.225750  146370.0\n",
            "3  2017-10-01    ZONE01        3      4155.654661  141270.0\n",
            "4  2017-10-01    ZONE01        4      3253.978594  139689.0\n"
          ],
          "name": "stdout"
        },
        {
          "output_type": "execute_result",
          "data": {
            "text/plain": [
              "UPDATE_TIME        0\n",
              "ZONE_CODE          0\n",
              "HOUR_ID            0\n",
              "BANDWIDTH_TOTAL    0\n",
              "MAX_USER           0\n",
              "dtype: int64"
            ]
          },
          "metadata": {
            "tags": []
          },
          "execution_count": 5
        }
      ]
    },
    {
      "cell_type": "code",
      "metadata": {
        "id": "IJmB3yZzeiU9",
        "colab_type": "code",
        "colab": {
          "base_uri": "https://localhost:8080/",
          "height": 206
        },
        "outputId": "13c95d47-fec2-45ef-9819-f163faed4334"
      },
      "source": [
        "df_test.head()"
      ],
      "execution_count": 6,
      "outputs": [
        {
          "output_type": "execute_result",
          "data": {
            "text/html": [
              "<div>\n",
              "<style scoped>\n",
              "    .dataframe tbody tr th:only-of-type {\n",
              "        vertical-align: middle;\n",
              "    }\n",
              "\n",
              "    .dataframe tbody tr th {\n",
              "        vertical-align: top;\n",
              "    }\n",
              "\n",
              "    .dataframe thead th {\n",
              "        text-align: right;\n",
              "    }\n",
              "</style>\n",
              "<table border=\"1\" class=\"dataframe\">\n",
              "  <thead>\n",
              "    <tr style=\"text-align: right;\">\n",
              "      <th></th>\n",
              "      <th>id</th>\n",
              "      <th>UPDATE_TIME</th>\n",
              "      <th>ZONE_CODE</th>\n",
              "      <th>HOUR_ID</th>\n",
              "    </tr>\n",
              "  </thead>\n",
              "  <tbody>\n",
              "    <tr>\n",
              "      <th>0</th>\n",
              "      <td>0</td>\n",
              "      <td>2019-03-10</td>\n",
              "      <td>ZONE01</td>\n",
              "      <td>0</td>\n",
              "    </tr>\n",
              "    <tr>\n",
              "      <th>1</th>\n",
              "      <td>1</td>\n",
              "      <td>2019-03-10</td>\n",
              "      <td>ZONE01</td>\n",
              "      <td>1</td>\n",
              "    </tr>\n",
              "    <tr>\n",
              "      <th>2</th>\n",
              "      <td>2</td>\n",
              "      <td>2019-03-10</td>\n",
              "      <td>ZONE01</td>\n",
              "      <td>2</td>\n",
              "    </tr>\n",
              "    <tr>\n",
              "      <th>3</th>\n",
              "      <td>3</td>\n",
              "      <td>2019-03-10</td>\n",
              "      <td>ZONE01</td>\n",
              "      <td>3</td>\n",
              "    </tr>\n",
              "    <tr>\n",
              "      <th>4</th>\n",
              "      <td>4</td>\n",
              "      <td>2019-03-10</td>\n",
              "      <td>ZONE01</td>\n",
              "      <td>4</td>\n",
              "    </tr>\n",
              "  </tbody>\n",
              "</table>\n",
              "</div>"
            ],
            "text/plain": [
              "   id UPDATE_TIME ZONE_CODE  HOUR_ID\n",
              "0   0  2019-03-10    ZONE01        0\n",
              "1   1  2019-03-10    ZONE01        1\n",
              "2   2  2019-03-10    ZONE01        2\n",
              "3   3  2019-03-10    ZONE01        3\n",
              "4   4  2019-03-10    ZONE01        4"
            ]
          },
          "metadata": {
            "tags": []
          },
          "execution_count": 6
        }
      ]
    },
    {
      "cell_type": "code",
      "metadata": {
        "id": "uhVZgZR_j6Qz",
        "colab_type": "code",
        "colab": {
          "base_uri": "https://localhost:8080/",
          "height": 442
        },
        "outputId": "3d184fbb-77f6-4d25-939d-d342c5d9c230"
      },
      "source": [
        "Zone_label = sorted(set(df_train['ZONE_CODE'].values))\n",
        "print(Zone_label)\n",
        "\n",
        "for i in range(len(Zone_label)):\n",
        "  df_train = df_train.replace(Zone_label[i], i)\n",
        "\n",
        "df_train"
      ],
      "execution_count": 7,
      "outputs": [
        {
          "output_type": "stream",
          "text": [
            "['ZONE01', 'ZONE02', 'ZONE03']\n"
          ],
          "name": "stdout"
        },
        {
          "output_type": "execute_result",
          "data": {
            "text/html": [
              "<div>\n",
              "<style scoped>\n",
              "    .dataframe tbody tr th:only-of-type {\n",
              "        vertical-align: middle;\n",
              "    }\n",
              "\n",
              "    .dataframe tbody tr th {\n",
              "        vertical-align: top;\n",
              "    }\n",
              "\n",
              "    .dataframe thead th {\n",
              "        text-align: right;\n",
              "    }\n",
              "</style>\n",
              "<table border=\"1\" class=\"dataframe\">\n",
              "  <thead>\n",
              "    <tr style=\"text-align: right;\">\n",
              "      <th></th>\n",
              "      <th>UPDATE_TIME</th>\n",
              "      <th>ZONE_CODE</th>\n",
              "      <th>HOUR_ID</th>\n",
              "      <th>BANDWIDTH_TOTAL</th>\n",
              "      <th>MAX_USER</th>\n",
              "    </tr>\n",
              "  </thead>\n",
              "  <tbody>\n",
              "    <tr>\n",
              "      <th>0</th>\n",
              "      <td>2017-10-01</td>\n",
              "      <td>0</td>\n",
              "      <td>0</td>\n",
              "      <td>16096.710313</td>\n",
              "      <td>212415.0</td>\n",
              "    </tr>\n",
              "    <tr>\n",
              "      <th>1</th>\n",
              "      <td>2017-10-01</td>\n",
              "      <td>0</td>\n",
              "      <td>1</td>\n",
              "      <td>9374.207907</td>\n",
              "      <td>166362.0</td>\n",
              "    </tr>\n",
              "    <tr>\n",
              "      <th>2</th>\n",
              "      <td>2017-10-01</td>\n",
              "      <td>0</td>\n",
              "      <td>2</td>\n",
              "      <td>5606.225750</td>\n",
              "      <td>146370.0</td>\n",
              "    </tr>\n",
              "    <tr>\n",
              "      <th>3</th>\n",
              "      <td>2017-10-01</td>\n",
              "      <td>0</td>\n",
              "      <td>3</td>\n",
              "      <td>4155.654661</td>\n",
              "      <td>141270.0</td>\n",
              "    </tr>\n",
              "    <tr>\n",
              "      <th>4</th>\n",
              "      <td>2017-10-01</td>\n",
              "      <td>0</td>\n",
              "      <td>4</td>\n",
              "      <td>3253.978594</td>\n",
              "      <td>139689.0</td>\n",
              "    </tr>\n",
              "    <tr>\n",
              "      <th>...</th>\n",
              "      <td>...</td>\n",
              "      <td>...</td>\n",
              "      <td>...</td>\n",
              "      <td>...</td>\n",
              "      <td>...</td>\n",
              "    </tr>\n",
              "    <tr>\n",
              "      <th>35539</th>\n",
              "      <td>2019-03-09</td>\n",
              "      <td>2</td>\n",
              "      <td>19</td>\n",
              "      <td>12808.480278</td>\n",
              "      <td>80886.0</td>\n",
              "    </tr>\n",
              "    <tr>\n",
              "      <th>35540</th>\n",
              "      <td>2019-03-09</td>\n",
              "      <td>2</td>\n",
              "      <td>20</td>\n",
              "      <td>14242.627076</td>\n",
              "      <td>83385.0</td>\n",
              "    </tr>\n",
              "    <tr>\n",
              "      <th>35541</th>\n",
              "      <td>2019-03-09</td>\n",
              "      <td>2</td>\n",
              "      <td>21</td>\n",
              "      <td>16003.524647</td>\n",
              "      <td>83436.0</td>\n",
              "    </tr>\n",
              "    <tr>\n",
              "      <th>35542</th>\n",
              "      <td>2019-03-09</td>\n",
              "      <td>2</td>\n",
              "      <td>22</td>\n",
              "      <td>12462.516085</td>\n",
              "      <td>73746.0</td>\n",
              "    </tr>\n",
              "    <tr>\n",
              "      <th>35543</th>\n",
              "      <td>2019-03-09</td>\n",
              "      <td>2</td>\n",
              "      <td>23</td>\n",
              "      <td>6969.967197</td>\n",
              "      <td>55590.0</td>\n",
              "    </tr>\n",
              "  </tbody>\n",
              "</table>\n",
              "<p>35544 rows × 5 columns</p>\n",
              "</div>"
            ],
            "text/plain": [
              "      UPDATE_TIME  ZONE_CODE  HOUR_ID  BANDWIDTH_TOTAL  MAX_USER\n",
              "0      2017-10-01          0        0     16096.710313  212415.0\n",
              "1      2017-10-01          0        1      9374.207907  166362.0\n",
              "2      2017-10-01          0        2      5606.225750  146370.0\n",
              "3      2017-10-01          0        3      4155.654661  141270.0\n",
              "4      2017-10-01          0        4      3253.978594  139689.0\n",
              "...           ...        ...      ...              ...       ...\n",
              "35539  2019-03-09          2       19     12808.480278   80886.0\n",
              "35540  2019-03-09          2       20     14242.627076   83385.0\n",
              "35541  2019-03-09          2       21     16003.524647   83436.0\n",
              "35542  2019-03-09          2       22     12462.516085   73746.0\n",
              "35543  2019-03-09          2       23      6969.967197   55590.0\n",
              "\n",
              "[35544 rows x 5 columns]"
            ]
          },
          "metadata": {
            "tags": []
          },
          "execution_count": 7
        }
      ]
    },
    {
      "cell_type": "code",
      "metadata": {
        "id": "7tgupAzu0voS",
        "colab_type": "code",
        "colab": {
          "base_uri": "https://localhost:8080/",
          "height": 698
        },
        "outputId": "9eaac666-c8be-419e-cf04-9c005000c03c"
      },
      "source": [
        "zOne1 = df_train[df_train.ZONE_CODE == 0]\n",
        "zOne1_grby = zOne1.groupby('UPDATE_TIME').mean()\n",
        "zOne1_grby.plot()\n",
        "zOne1"
      ],
      "execution_count": 8,
      "outputs": [
        {
          "output_type": "execute_result",
          "data": {
            "text/html": [
              "<div>\n",
              "<style scoped>\n",
              "    .dataframe tbody tr th:only-of-type {\n",
              "        vertical-align: middle;\n",
              "    }\n",
              "\n",
              "    .dataframe tbody tr th {\n",
              "        vertical-align: top;\n",
              "    }\n",
              "\n",
              "    .dataframe thead th {\n",
              "        text-align: right;\n",
              "    }\n",
              "</style>\n",
              "<table border=\"1\" class=\"dataframe\">\n",
              "  <thead>\n",
              "    <tr style=\"text-align: right;\">\n",
              "      <th></th>\n",
              "      <th>UPDATE_TIME</th>\n",
              "      <th>ZONE_CODE</th>\n",
              "      <th>HOUR_ID</th>\n",
              "      <th>BANDWIDTH_TOTAL</th>\n",
              "      <th>MAX_USER</th>\n",
              "    </tr>\n",
              "  </thead>\n",
              "  <tbody>\n",
              "    <tr>\n",
              "      <th>0</th>\n",
              "      <td>2017-10-01</td>\n",
              "      <td>0</td>\n",
              "      <td>0</td>\n",
              "      <td>16096.710313</td>\n",
              "      <td>212415.0</td>\n",
              "    </tr>\n",
              "    <tr>\n",
              "      <th>1</th>\n",
              "      <td>2017-10-01</td>\n",
              "      <td>0</td>\n",
              "      <td>1</td>\n",
              "      <td>9374.207907</td>\n",
              "      <td>166362.0</td>\n",
              "    </tr>\n",
              "    <tr>\n",
              "      <th>2</th>\n",
              "      <td>2017-10-01</td>\n",
              "      <td>0</td>\n",
              "      <td>2</td>\n",
              "      <td>5606.225750</td>\n",
              "      <td>146370.0</td>\n",
              "    </tr>\n",
              "    <tr>\n",
              "      <th>3</th>\n",
              "      <td>2017-10-01</td>\n",
              "      <td>0</td>\n",
              "      <td>3</td>\n",
              "      <td>4155.654661</td>\n",
              "      <td>141270.0</td>\n",
              "    </tr>\n",
              "    <tr>\n",
              "      <th>4</th>\n",
              "      <td>2017-10-01</td>\n",
              "      <td>0</td>\n",
              "      <td>4</td>\n",
              "      <td>3253.978594</td>\n",
              "      <td>139689.0</td>\n",
              "    </tr>\n",
              "    <tr>\n",
              "      <th>...</th>\n",
              "      <td>...</td>\n",
              "      <td>...</td>\n",
              "      <td>...</td>\n",
              "      <td>...</td>\n",
              "      <td>...</td>\n",
              "    </tr>\n",
              "    <tr>\n",
              "      <th>35491</th>\n",
              "      <td>2019-03-09</td>\n",
              "      <td>0</td>\n",
              "      <td>19</td>\n",
              "      <td>115117.947467</td>\n",
              "      <td>1005465.0</td>\n",
              "    </tr>\n",
              "    <tr>\n",
              "      <th>35492</th>\n",
              "      <td>2019-03-09</td>\n",
              "      <td>0</td>\n",
              "      <td>20</td>\n",
              "      <td>130244.830115</td>\n",
              "      <td>1042185.0</td>\n",
              "    </tr>\n",
              "    <tr>\n",
              "      <th>35493</th>\n",
              "      <td>2019-03-09</td>\n",
              "      <td>0</td>\n",
              "      <td>21</td>\n",
              "      <td>139899.045695</td>\n",
              "      <td>1062228.0</td>\n",
              "    </tr>\n",
              "    <tr>\n",
              "      <th>35494</th>\n",
              "      <td>2019-03-09</td>\n",
              "      <td>0</td>\n",
              "      <td>22</td>\n",
              "      <td>134567.779787</td>\n",
              "      <td>1011024.0</td>\n",
              "    </tr>\n",
              "    <tr>\n",
              "      <th>35495</th>\n",
              "      <td>2019-03-09</td>\n",
              "      <td>0</td>\n",
              "      <td>23</td>\n",
              "      <td>106028.885663</td>\n",
              "      <td>866286.0</td>\n",
              "    </tr>\n",
              "  </tbody>\n",
              "</table>\n",
              "<p>12575 rows × 5 columns</p>\n",
              "</div>"
            ],
            "text/plain": [
              "      UPDATE_TIME  ZONE_CODE  HOUR_ID  BANDWIDTH_TOTAL   MAX_USER\n",
              "0      2017-10-01          0        0     16096.710313   212415.0\n",
              "1      2017-10-01          0        1      9374.207907   166362.0\n",
              "2      2017-10-01          0        2      5606.225750   146370.0\n",
              "3      2017-10-01          0        3      4155.654661   141270.0\n",
              "4      2017-10-01          0        4      3253.978594   139689.0\n",
              "...           ...        ...      ...              ...        ...\n",
              "35491  2019-03-09          0       19    115117.947467  1005465.0\n",
              "35492  2019-03-09          0       20    130244.830115  1042185.0\n",
              "35493  2019-03-09          0       21    139899.045695  1062228.0\n",
              "35494  2019-03-09          0       22    134567.779787  1011024.0\n",
              "35495  2019-03-09          0       23    106028.885663   866286.0\n",
              "\n",
              "[12575 rows x 5 columns]"
            ]
          },
          "metadata": {
            "tags": []
          },
          "execution_count": 8
        },
        {
          "output_type": "display_data",
          "data": {
            "image/png": "[encoded data removed]",
            "text/plain": [
              "<Figure size 432x288 with 1 Axes>"
            ]
          },
          "metadata": {
            "tags": [],
            "needs_background": "light"
          }
        }
      ]
    },
    {
      "cell_type": "markdown",
      "metadata": {
        "id": "7JjkoFzD2_MG",
        "colab_type": "text"
      },
      "source": [
        "Create Model"
      ]
    },
    {
      "cell_type": "code",
      "metadata": {
        "id": "kj-T4Ptd1oJc",
        "colab_type": "code",
        "colab": {}
      },
      "source": [
        "model = tf.keras.Sequential()\n",
        "model.add(tf.keras.layers.LSTM(32, activation='relu', input_shape=(3, 1)))\n",
        "# model.add(tf.keras.layers.LSTM(16, activation='relu'))\n",
        "# model.add(tf.keras.layers.LSTM(8, activation='relu'))\n",
        "model.add(tf.keras.layers.Dense(1))\n",
        "\n",
        "model.compile(optimizer='adam', loss='mse', metrics='accuracy')\n",
        "\n",
        "epoch = 100"
      ],
      "execution_count": 9,
      "outputs": []
    },
    {
      "cell_type": "markdown",
      "metadata": {
        "id": "dhtiWQLbp8Pg",
        "colab_type": "text"
      },
      "source": [
        "Create train for Zone 01 with predict bandwidth_total"
      ]
    },
    {
      "cell_type": "code",
      "metadata": {
        "id": "vJyf7S_PFQEr",
        "colab_type": "code",
        "colab": {
          "base_uri": "https://localhost:8080/",
          "height": 53
        },
        "outputId": "e31ed6fb-8258-443a-9f09-91e0b119019b"
      },
      "source": [
        "# X_train = zOne1.drop(['BANDWIDTH_TOTAL', 'MAX_USER'], axis=1).values\n",
        "# y_train = zOne1.drop(['UPDATE_TIME', 'ZONE_CODE', 'HOUR_ID'], axis=1).values\n",
        "# print(X_train.shape, y_train.shape)\n",
        "\n",
        "X = zOne1.drop(['BANDWIDTH_TOTAL', 'UPDATE_TIME'], axis=1).values\n",
        "y = zOne1.drop(['UPDATE_TIME', 'MAX_USER', 'ZONE_CODE', 'HOUR_ID'], axis=1).values\n",
        "X_train, X_test, y_train, y_test = train_test_split(X, y, test_size=0.3, random_state=42)\n",
        "print(X_train.shape, y_train.shape)\n",
        "\n",
        "X_train = X_train.reshape(X_train.shape[0], X_train.shape[1], 1)\n",
        "X_test = X_test.reshape(X_test.shape[0], X_test.shape[1], 1)\n",
        "print(X_train.shape)\n",
        "# X_train.head()"
      ],
      "execution_count": 10,
      "outputs": [
        {
          "output_type": "stream",
          "text": [
            "(8802, 3) (8802, 1)\n",
            "(8802, 3, 1)\n"
          ],
          "name": "stdout"
        }
      ]
    },
    {
      "cell_type": "code",
      "metadata": {
        "id": "1Q9hxOCE6tu2",
        "colab_type": "code",
        "colab": {
          "base_uri": "https://localhost:8080/",
          "height": 1000
        },
        "outputId": "847b9358-82a3-425c-dadc-9495ed602328"
      },
      "source": [
        "predict_zone01 = model.fit(X_train, y_train, epochs=epoch, verbose=1)"
      ],
      "execution_count": 11,
      "outputs": [
        {
          "output_type": "stream",
          "text": [
            "Epoch 1/100\n",
            "276/276 [==============================] - 1s 2ms/step - loss: 279733120.0000 - accuracy: 0.0000e+00\n",
            "Epoch 2/100\n",
            "276/276 [==============================] - 1s 2ms/step - loss: 232599328.0000 - accuracy: 0.0000e+00\n",
            "Epoch 3/100\n",
            "276/276 [==============================] - 1s 2ms/step - loss: 219587856.0000 - accuracy: 0.0000e+00\n",
            "Epoch 4/100\n",
            "276/276 [==============================] - 1s 2ms/step - loss: 214887072.0000 - accuracy: 0.0000e+00\n",
            "Epoch 5/100\n",
            "276/276 [==============================] - 1s 2ms/step - loss: 203065568.0000 - accuracy: 0.0000e+00\n",
            "Epoch 6/100\n",
            "276/276 [==============================] - 1s 2ms/step - loss: 194229600.0000 - accuracy: 0.0000e+00\n",
            "Epoch 7/100\n",
            "276/276 [==============================] - 1s 2ms/step - loss: 164913792.0000 - accuracy: 0.0000e+00\n",
            "Epoch 8/100\n",
            "276/276 [==============================] - 1s 2ms/step - loss: 142571904.0000 - accuracy: 0.0000e+00\n",
            "Epoch 9/100\n",
            "276/276 [==============================] - 1s 2ms/step - loss: 126598976.0000 - accuracy: 0.0000e+00\n",
            "Epoch 10/100\n",
            "276/276 [==============================] - 1s 2ms/step - loss: 120865512.0000 - accuracy: 0.0000e+00\n",
            "Epoch 11/100\n",
            "276/276 [==============================] - 1s 2ms/step - loss: 118964144.0000 - accuracy: 0.0000e+00\n",
            "Epoch 12/100\n",
            "276/276 [==============================] - 1s 2ms/step - loss: 118671856.0000 - accuracy: 0.0000e+00\n",
            "Epoch 13/100\n",
            "276/276 [==============================] - 1s 2ms/step - loss: 116690080.0000 - accuracy: 0.0000e+00\n",
            "Epoch 14/100\n",
            "276/276 [==============================] - 1s 2ms/step - loss: 115504144.0000 - accuracy: 0.0000e+00\n",
            "Epoch 15/100\n",
            "276/276 [==============================] - 1s 2ms/step - loss: 116922184.0000 - accuracy: 0.0000e+00\n",
            "Epoch 16/100\n",
            "276/276 [==============================] - 1s 2ms/step - loss: 116531808.0000 - accuracy: 0.0000e+00\n",
            "Epoch 17/100\n",
            "276/276 [==============================] - 1s 2ms/step - loss: 114767048.0000 - accuracy: 0.0000e+00\n",
            "Epoch 18/100\n",
            "276/276 [==============================] - 1s 2ms/step - loss: 113795816.0000 - accuracy: 0.0000e+00\n",
            "Epoch 19/100\n",
            "276/276 [==============================] - 1s 2ms/step - loss: 114401736.0000 - accuracy: 0.0000e+00\n",
            "Epoch 20/100\n",
            "276/276 [==============================] - 1s 2ms/step - loss: 113106264.0000 - accuracy: 0.0000e+00\n",
            "Epoch 21/100\n",
            "276/276 [==============================] - 1s 2ms/step - loss: 112225784.0000 - accuracy: 0.0000e+00\n",
            "Epoch 22/100\n",
            "276/276 [==============================] - 1s 2ms/step - loss: 113930112.0000 - accuracy: 0.0000e+00\n",
            "Epoch 23/100\n",
            "276/276 [==============================] - 1s 2ms/step - loss: 112871784.0000 - accuracy: 0.0000e+00\n",
            "Epoch 24/100\n",
            "276/276 [==============================] - 1s 2ms/step - loss: 112922816.0000 - accuracy: 0.0000e+00\n",
            "Epoch 25/100\n",
            "276/276 [==============================] - 1s 2ms/step - loss: 111107088.0000 - accuracy: 0.0000e+00\n",
            "Epoch 26/100\n",
            "276/276 [==============================] - 1s 2ms/step - loss: 128303152.0000 - accuracy: 0.0000e+00\n",
            "Epoch 27/100\n",
            "276/276 [==============================] - 1s 2ms/step - loss: 110461720.0000 - accuracy: 0.0000e+00\n",
            "Epoch 28/100\n",
            "276/276 [==============================] - 1s 2ms/step - loss: 109412640.0000 - accuracy: 0.0000e+00\n",
            "Epoch 29/100\n",
            "276/276 [==============================] - 1s 2ms/step - loss: 109624120.0000 - accuracy: 0.0000e+00\n",
            "Epoch 30/100\n",
            "276/276 [==============================] - 1s 2ms/step - loss: 109476696.0000 - accuracy: 0.0000e+00\n",
            "Epoch 31/100\n",
            "276/276 [==============================] - 1s 2ms/step - loss: 109851064.0000 - accuracy: 0.0000e+00\n",
            "Epoch 32/100\n",
            "276/276 [==============================] - 1s 2ms/step - loss: 110721056.0000 - accuracy: 0.0000e+00\n",
            "Epoch 33/100\n",
            "276/276 [==============================] - 1s 2ms/step - loss: 108932744.0000 - accuracy: 0.0000e+00\n",
            "Epoch 34/100\n",
            "276/276 [==============================] - 1s 2ms/step - loss: 108182432.0000 - accuracy: 0.0000e+00\n",
            "Epoch 35/100\n",
            "276/276 [==============================] - 1s 2ms/step - loss: 108195752.0000 - accuracy: 0.0000e+00\n",
            "Epoch 36/100\n",
            "276/276 [==============================] - 1s 2ms/step - loss: 107471240.0000 - accuracy: 0.0000e+00\n",
            "Epoch 37/100\n",
            "276/276 [==============================] - 1s 2ms/step - loss: 119909944.0000 - accuracy: 0.0000e+00\n",
            "Epoch 38/100\n",
            "276/276 [==============================] - 1s 2ms/step - loss: 107062328.0000 - accuracy: 0.0000e+00\n",
            "Epoch 39/100\n",
            "276/276 [==============================] - 1s 2ms/step - loss: 111488104.0000 - accuracy: 0.0000e+00\n",
            "Epoch 40/100\n",
            "276/276 [==============================] - 1s 2ms/step - loss: 109213288.0000 - accuracy: 0.0000e+00\n",
            "Epoch 41/100\n",
            "276/276 [==============================] - 1s 2ms/step - loss: 108838000.0000 - accuracy: 0.0000e+00\n",
            "Epoch 42/100\n",
            "276/276 [==============================] - 1s 2ms/step - loss: 107749776.0000 - accuracy: 0.0000e+00\n",
            "Epoch 43/100\n",
            "276/276 [==============================] - 1s 2ms/step - loss: 108027600.0000 - accuracy: 0.0000e+00\n",
            "Epoch 44/100\n",
            "276/276 [==============================] - 1s 2ms/step - loss: 108449496.0000 - accuracy: 0.0000e+00\n",
            "Epoch 45/100\n",
            "276/276 [==============================] - 1s 2ms/step - loss: 107982216.0000 - accuracy: 0.0000e+00\n",
            "Epoch 46/100\n",
            "276/276 [==============================] - 1s 2ms/step - loss: 107789896.0000 - accuracy: 0.0000e+00\n",
            "Epoch 47/100\n",
            "276/276 [==============================] - 1s 2ms/step - loss: 107234624.0000 - accuracy: 0.0000e+00\n",
            "Epoch 48/100\n",
            "276/276 [==============================] - 1s 2ms/step - loss: 106834168.0000 - accuracy: 0.0000e+00\n",
            "Epoch 49/100\n",
            "276/276 [==============================] - 1s 2ms/step - loss: 106469928.0000 - accuracy: 0.0000e+00\n",
            "Epoch 50/100\n",
            "276/276 [==============================] - 1s 2ms/step - loss: 106439904.0000 - accuracy: 0.0000e+00\n",
            "Epoch 51/100\n",
            "276/276 [==============================] - 1s 2ms/step - loss: 106183520.0000 - accuracy: 0.0000e+00\n",
            "Epoch 52/100\n",
            "276/276 [==============================] - 1s 2ms/step - loss: 106965744.0000 - accuracy: 0.0000e+00\n",
            "Epoch 53/100\n",
            "276/276 [==============================] - 1s 2ms/step - loss: 105440384.0000 - accuracy: 0.0000e+00\n",
            "Epoch 54/100\n",
            "276/276 [==============================] - 1s 2ms/step - loss: 105371520.0000 - accuracy: 0.0000e+00\n",
            "Epoch 55/100\n",
            "276/276 [==============================] - 1s 2ms/step - loss: 105093152.0000 - accuracy: 0.0000e+00\n",
            "Epoch 56/100\n",
            "276/276 [==============================] - 1s 2ms/step - loss: 105353456.0000 - accuracy: 0.0000e+00\n",
            "Epoch 57/100\n",
            "276/276 [==============================] - 1s 2ms/step - loss: 106984600.0000 - accuracy: 0.0000e+00\n",
            "Epoch 58/100\n",
            "276/276 [==============================] - 1s 2ms/step - loss: 104479216.0000 - accuracy: 0.0000e+00\n",
            "Epoch 59/100\n",
            "276/276 [==============================] - 1s 2ms/step - loss: 105088768.0000 - accuracy: 0.0000e+00\n",
            "Epoch 60/100\n",
            "276/276 [==============================] - 1s 2ms/step - loss: 104889672.0000 - accuracy: 0.0000e+00\n",
            "Epoch 61/100\n",
            "276/276 [==============================] - 1s 2ms/step - loss: 103646608.0000 - accuracy: 0.0000e+00\n",
            "Epoch 62/100\n",
            "276/276 [==============================] - 1s 2ms/step - loss: 102856384.0000 - accuracy: 0.0000e+00\n",
            "Epoch 63/100\n",
            "276/276 [==============================] - 1s 2ms/step - loss: 102739056.0000 - accuracy: 0.0000e+00\n",
            "Epoch 64/100\n",
            "276/276 [==============================] - 1s 2ms/step - loss: 102767192.0000 - accuracy: 0.0000e+00\n",
            "Epoch 65/100\n",
            "276/276 [==============================] - 1s 2ms/step - loss: 102136416.0000 - accuracy: 0.0000e+00\n",
            "Epoch 66/100\n",
            "276/276 [==============================] - 1s 2ms/step - loss: 102383760.0000 - accuracy: 0.0000e+00\n",
            "Epoch 67/100\n",
            "276/276 [==============================] - 1s 2ms/step - loss: 102383944.0000 - accuracy: 0.0000e+00\n",
            "Epoch 68/100\n",
            "276/276 [==============================] - 1s 2ms/step - loss: 102879504.0000 - accuracy: 0.0000e+00\n",
            "Epoch 69/100\n",
            "276/276 [==============================] - 1s 2ms/step - loss: 102801616.0000 - accuracy: 0.0000e+00\n",
            "Epoch 70/100\n",
            "276/276 [==============================] - 1s 2ms/step - loss: 103464256.0000 - accuracy: 0.0000e+00\n",
            "Epoch 71/100\n",
            "276/276 [==============================] - 1s 2ms/step - loss: 101031680.0000 - accuracy: 0.0000e+00\n",
            "Epoch 72/100\n",
            "276/276 [==============================] - 1s 2ms/step - loss: 101474448.0000 - accuracy: 0.0000e+00\n",
            "Epoch 73/100\n",
            "276/276 [==============================] - 1s 2ms/step - loss: 99912136.0000 - accuracy: 0.0000e+00\n",
            "Epoch 74/100\n",
            "276/276 [==============================] - 1s 2ms/step - loss: 100297928.0000 - accuracy: 0.0000e+00\n",
            "Epoch 75/100\n",
            "276/276 [==============================] - 1s 2ms/step - loss: 100173552.0000 - accuracy: 0.0000e+00\n",
            "Epoch 76/100\n",
            "276/276 [==============================] - 1s 2ms/step - loss: 100642056.0000 - accuracy: 0.0000e+00\n",
            "Epoch 77/100\n",
            "276/276 [==============================] - 1s 2ms/step - loss: 99310896.0000 - accuracy: 0.0000e+00\n",
            "Epoch 78/100\n",
            "276/276 [==============================] - 1s 2ms/step - loss: 99907240.0000 - accuracy: 0.0000e+00\n",
            "Epoch 79/100\n",
            "276/276 [==============================] - 1s 2ms/step - loss: 99226712.0000 - accuracy: 0.0000e+00\n",
            "Epoch 80/100\n",
            "276/276 [==============================] - 1s 2ms/step - loss: 98924960.0000 - accuracy: 0.0000e+00\n",
            "Epoch 81/100\n",
            "276/276 [==============================] - 1s 2ms/step - loss: 100055112.0000 - accuracy: 0.0000e+00\n",
            "Epoch 82/100\n",
            "276/276 [==============================] - 1s 2ms/step - loss: 98303176.0000 - accuracy: 0.0000e+00\n",
            "Epoch 83/100\n",
            "276/276 [==============================] - 1s 2ms/step - loss: 98149320.0000 - accuracy: 0.0000e+00\n",
            "Epoch 84/100\n",
            "276/276 [==============================] - 1s 2ms/step - loss: 99461352.0000 - accuracy: 0.0000e+00\n",
            "Epoch 85/100\n",
            "276/276 [==============================] - 1s 2ms/step - loss: 100516840.0000 - accuracy: 0.0000e+00\n",
            "Epoch 86/100\n",
            "276/276 [==============================] - 1s 2ms/step - loss: 98122248.0000 - accuracy: 0.0000e+00\n",
            "Epoch 87/100\n",
            "276/276 [==============================] - 1s 2ms/step - loss: 98591552.0000 - accuracy: 0.0000e+00\n",
            "Epoch 88/100\n",
            "276/276 [==============================] - 1s 2ms/step - loss: 97061608.0000 - accuracy: 0.0000e+00\n",
            "Epoch 89/100\n",
            "276/276 [==============================] - 1s 2ms/step - loss: 97518496.0000 - accuracy: 0.0000e+00\n",
            "Epoch 90/100\n",
            "276/276 [==============================] - 1s 2ms/step - loss: 97298168.0000 - accuracy: 0.0000e+00\n",
            "Epoch 91/100\n",
            "276/276 [==============================] - 1s 2ms/step - loss: 98719448.0000 - accuracy: 0.0000e+00\n",
            "Epoch 92/100\n",
            "276/276 [==============================] - 1s 2ms/step - loss: 97134768.0000 - accuracy: 0.0000e+00\n",
            "Epoch 93/100\n",
            "276/276 [==============================] - 1s 2ms/step - loss: 97738064.0000 - accuracy: 0.0000e+00\n",
            "Epoch 94/100\n",
            "276/276 [==============================] - 1s 2ms/step - loss: 97250016.0000 - accuracy: 0.0000e+00\n",
            "Epoch 95/100\n",
            "276/276 [==============================] - 1s 2ms/step - loss: 98700448.0000 - accuracy: 0.0000e+00\n",
            "Epoch 96/100\n",
            "276/276 [==============================] - 1s 2ms/step - loss: 97187120.0000 - accuracy: 0.0000e+00\n",
            "Epoch 97/100\n",
            "276/276 [==============================] - 1s 2ms/step - loss: 97159496.0000 - accuracy: 0.0000e+00\n",
            "Epoch 98/100\n",
            "276/276 [==============================] - 1s 2ms/step - loss: 97853048.0000 - accuracy: 0.0000e+00\n",
            "Epoch 99/100\n",
            "276/276 [==============================] - 1s 2ms/step - loss: 96576248.0000 - accuracy: 0.0000e+00\n",
            "Epoch 100/100\n",
            "276/276 [==============================] - 1s 2ms/step - loss: 97498808.0000 - accuracy: 0.0000e+00\n"
          ],
          "name": "stdout"
        }
      ]
    },
    {
      "cell_type": "code",
      "metadata": {
        "id": "ZbC64_-fFFC-",
        "colab_type": "code",
        "colab": {
          "base_uri": "https://localhost:8080/",
          "height": 295
        },
        "outputId": "e0e6528c-13b8-4aa6-df6d-05ebc0d1911d"
      },
      "source": [
        "plt.plot(predict_zone01.history['loss'])\n",
        "plt.plot(predict_zone01.history['accuracy'])\n",
        "plt.title('Loss & Validation Zone 01')\n",
        "plt.xlabel('epochs')\n",
        "plt.ylabel('Loss & Validation')\n",
        "plt.legend(['loss', 'val'], loc='upper right')\n",
        "plt.show()"
      ],
      "execution_count": 12,
      "outputs": [
        {
          "output_type": "display_data",
          "data": {
            "image/png": "[encoded data removed]",
            "text/plain": [
              "<Figure size 432x288 with 1 Axes>"
            ]
          },
          "metadata": {
            "tags": [],
            "needs_background": "light"
          }
        }
      ]
    },
    {
      "cell_type": "code",
      "metadata": {
        "id": "sOROTMo_-KH9",
        "colab_type": "code",
        "colab": {
          "base_uri": "https://localhost:8080/",
          "height": 281
        },
        "outputId": "40e5c13c-0f8a-4ce2-b57d-799f5daad910"
      },
      "source": [
        "plt.plot(y_test)\n",
        "plt.plot(predict_zone01.model.predict(X_test))\n",
        "plt.title('Predict Test Zone 01')\n",
        "plt.legend(['Real', 'Pre'], loc='upper right')\n",
        "plt.show()"
      ],
      "execution_count": 13,
      "outputs": [
        {
          "output_type": "display_data",
          "data": {
            "image/png": "[encoded data removed]",
            "text/plain": [
              "<Figure size 432x288 with 1 Axes>"
            ]
          },
          "metadata": {
            "tags": [],
            "needs_background": "light"
          }
        }
      ]
    },
    {
      "cell_type": "markdown",
      "metadata": {
        "id": "qY5p0taPrTiD",
        "colab_type": "text"
      },
      "source": [
        "Create train for zone 02"
      ]
    },
    {
      "cell_type": "code",
      "metadata": {
        "id": "fxhAQmsDWOEY",
        "colab_type": "code",
        "colab": {
          "base_uri": "https://localhost:8080/",
          "height": 316
        },
        "outputId": "4bd11d25-a029-469d-961f-904c5c6f3973"
      },
      "source": [
        "zOne2 = df_train[df_train.ZONE_CODE == 1]\n",
        "zOne2_grby = zOne2.groupby('UPDATE_TIME').mean()\n",
        "zOne2_grby.plot()\n",
        "\n",
        "X = zOne2.drop(['BANDWIDTH_TOTAL', 'UPDATE_TIME'], axis=1).values\n",
        "y = zOne2.drop(['UPDATE_TIME', 'MAX_USER', 'ZONE_CODE', 'HOUR_ID'], axis=1).values\n",
        "X_train, X_test, y_train, y_test = train_test_split(X, y, test_size=0.3, random_state=42)\n",
        "print(X_train.shape, y_train.shape)\n",
        "\n",
        "X_train = X_train.reshape(X_train.shape[0], X_train.shape[1], 1)\n",
        "X_test = X_test.reshape(X_test.shape[0], X_test.shape[1], 1)\n",
        "print(X_train.shape)"
      ],
      "execution_count": 14,
      "outputs": [
        {
          "output_type": "stream",
          "text": [
            "(7644, 3) (7644, 1)\n",
            "(7644, 3, 1)\n"
          ],
          "name": "stdout"
        },
        {
          "output_type": "display_data",
          "data": {
            "image/png": "[encoded data removed]",
            "text/plain": [
              "<Figure size 432x288 with 1 Axes>"
            ]
          },
          "metadata": {
            "tags": [],
            "needs_background": "light"
          }
        }
      ]
    },
    {
      "cell_type": "code",
      "metadata": {
        "id": "Glv27NRTri4_",
        "colab_type": "code",
        "colab": {
          "base_uri": "https://localhost:8080/",
          "height": 1000
        },
        "outputId": "4ed74dd8-37c0-4047-b3b0-ad245fd85385"
      },
      "source": [
        "predict_zone02 = model.fit(X_train, y_train, epochs=epoch, verbose=1)"
      ],
      "execution_count": 15,
      "outputs": [
        {
          "output_type": "stream",
          "text": [
            "Epoch 1/100\n",
            "239/239 [==============================] - 1s 2ms/step - loss: 28431856.0000 - accuracy: 0.0000e+00\n",
            "Epoch 2/100\n",
            "239/239 [==============================] - 1s 2ms/step - loss: 5376477.5000 - accuracy: 0.0000e+00\n",
            "Epoch 3/100\n",
            "239/239 [==============================] - 1s 2ms/step - loss: 4107580.5000 - accuracy: 0.0000e+00\n",
            "Epoch 4/100\n",
            "239/239 [==============================] - 1s 2ms/step - loss: 3555529.7500 - accuracy: 0.0000e+00\n",
            "Epoch 5/100\n",
            "239/239 [==============================] - 1s 2ms/step - loss: 3307285.5000 - accuracy: 0.0000e+00\n",
            "Epoch 6/100\n",
            "239/239 [==============================] - 1s 2ms/step - loss: 3144171.7500 - accuracy: 0.0000e+00\n",
            "Epoch 7/100\n",
            "239/239 [==============================] - 1s 2ms/step - loss: 3678160.7500 - accuracy: 0.0000e+00\n",
            "Epoch 8/100\n",
            "239/239 [==============================] - 1s 2ms/step - loss: 3145261.0000 - accuracy: 0.0000e+00\n",
            "Epoch 9/100\n",
            "239/239 [==============================] - 1s 2ms/step - loss: 2895977.5000 - accuracy: 0.0000e+00\n",
            "Epoch 10/100\n",
            "239/239 [==============================] - 1s 2ms/step - loss: 2696788.5000 - accuracy: 0.0000e+00\n",
            "Epoch 11/100\n",
            "239/239 [==============================] - 1s 2ms/step - loss: 2714304.0000 - accuracy: 0.0000e+00\n",
            "Epoch 12/100\n",
            "239/239 [==============================] - 1s 2ms/step - loss: 2443761.5000 - accuracy: 0.0000e+00\n",
            "Epoch 13/100\n",
            "239/239 [==============================] - 1s 2ms/step - loss: 2333728.0000 - accuracy: 0.0000e+00\n",
            "Epoch 14/100\n",
            "239/239 [==============================] - 1s 2ms/step - loss: 2213949.2500 - accuracy: 0.0000e+00\n",
            "Epoch 15/100\n",
            "239/239 [==============================] - 1s 2ms/step - loss: 2092435.7500 - accuracy: 0.0000e+00\n",
            "Epoch 16/100\n",
            "239/239 [==============================] - 1s 2ms/step - loss: 2025610.5000 - accuracy: 0.0000e+00\n",
            "Epoch 17/100\n",
            "239/239 [==============================] - 1s 2ms/step - loss: 1863510.1250 - accuracy: 0.0000e+00\n",
            "Epoch 18/100\n",
            "239/239 [==============================] - 1s 2ms/step - loss: 1776174.7500 - accuracy: 0.0000e+00\n",
            "Epoch 19/100\n",
            "239/239 [==============================] - 1s 2ms/step - loss: 1645786.0000 - accuracy: 0.0000e+00\n",
            "Epoch 20/100\n",
            "239/239 [==============================] - 1s 2ms/step - loss: 1558220.5000 - accuracy: 0.0000e+00\n",
            "Epoch 21/100\n",
            "239/239 [==============================] - 1s 2ms/step - loss: 1487122.1250 - accuracy: 0.0000e+00\n",
            "Epoch 22/100\n",
            "239/239 [==============================] - 1s 2ms/step - loss: 1420446.7500 - accuracy: 0.0000e+00\n",
            "Epoch 23/100\n",
            "239/239 [==============================] - 1s 2ms/step - loss: 1335956.3750 - accuracy: 0.0000e+00\n",
            "Epoch 24/100\n",
            "239/239 [==============================] - 1s 2ms/step - loss: 1255438.6250 - accuracy: 0.0000e+00\n",
            "Epoch 25/100\n",
            "239/239 [==============================] - 1s 2ms/step - loss: 1201071.8750 - accuracy: 0.0000e+00\n",
            "Epoch 26/100\n",
            "239/239 [==============================] - 1s 2ms/step - loss: 1169725.6250 - accuracy: 0.0000e+00\n",
            "Epoch 27/100\n",
            "239/239 [==============================] - 1s 2ms/step - loss: 1043925.6875 - accuracy: 0.0000e+00\n",
            "Epoch 28/100\n",
            "239/239 [==============================] - 1s 2ms/step - loss: 935005.3750 - accuracy: 0.0000e+00\n",
            "Epoch 29/100\n",
            "239/239 [==============================] - 1s 2ms/step - loss: 814656.7500 - accuracy: 0.0000e+00\n",
            "Epoch 30/100\n",
            "239/239 [==============================] - 1s 2ms/step - loss: 759338.8750 - accuracy: 0.0000e+00\n",
            "Epoch 31/100\n",
            "239/239 [==============================] - 1s 2ms/step - loss: 719141.0000 - accuracy: 0.0000e+00\n",
            "Epoch 32/100\n",
            "239/239 [==============================] - 1s 2ms/step - loss: 675708.9375 - accuracy: 0.0000e+00\n",
            "Epoch 33/100\n",
            "239/239 [==============================] - 1s 2ms/step - loss: 653344.8125 - accuracy: 0.0000e+00\n",
            "Epoch 34/100\n",
            "239/239 [==============================] - 1s 2ms/step - loss: 635857.6875 - accuracy: 0.0000e+00\n",
            "Epoch 35/100\n",
            "239/239 [==============================] - 1s 2ms/step - loss: 625171.3125 - accuracy: 0.0000e+00\n",
            "Epoch 36/100\n",
            "239/239 [==============================] - 1s 2ms/step - loss: 607682.0000 - accuracy: 0.0000e+00\n",
            "Epoch 37/100\n",
            "239/239 [==============================] - 1s 2ms/step - loss: 607844.5000 - accuracy: 0.0000e+00\n",
            "Epoch 38/100\n",
            "239/239 [==============================] - 1s 2ms/step - loss: 594864.6250 - accuracy: 0.0000e+00\n",
            "Epoch 39/100\n",
            "239/239 [==============================] - 1s 2ms/step - loss: 598924.3125 - accuracy: 0.0000e+00\n",
            "Epoch 40/100\n",
            "239/239 [==============================] - 1s 2ms/step - loss: 578047.0625 - accuracy: 0.0000e+00\n",
            "Epoch 41/100\n",
            "239/239 [==============================] - 1s 2ms/step - loss: 578499.1250 - accuracy: 0.0000e+00\n",
            "Epoch 42/100\n",
            "239/239 [==============================] - 1s 2ms/step - loss: 575290.9375 - accuracy: 0.0000e+00\n",
            "Epoch 43/100\n",
            "239/239 [==============================] - 1s 2ms/step - loss: 569759.3750 - accuracy: 0.0000e+00\n",
            "Epoch 44/100\n",
            "239/239 [==============================] - 1s 2ms/step - loss: 578252.8125 - accuracy: 0.0000e+00\n",
            "Epoch 45/100\n",
            "239/239 [==============================] - 1s 2ms/step - loss: 580447.8125 - accuracy: 0.0000e+00\n",
            "Epoch 46/100\n",
            "239/239 [==============================] - 1s 2ms/step - loss: 570654.8125 - accuracy: 0.0000e+00\n",
            "Epoch 47/100\n",
            "239/239 [==============================] - 1s 2ms/step - loss: 565451.7500 - accuracy: 0.0000e+00\n",
            "Epoch 48/100\n",
            "239/239 [==============================] - 1s 2ms/step - loss: 562131.3125 - accuracy: 0.0000e+00\n",
            "Epoch 49/100\n",
            "239/239 [==============================] - 1s 2ms/step - loss: 550679.0625 - accuracy: 0.0000e+00\n",
            "Epoch 50/100\n",
            "239/239 [==============================] - 1s 2ms/step - loss: 548741.7500 - accuracy: 0.0000e+00\n",
            "Epoch 51/100\n",
            "239/239 [==============================] - 1s 2ms/step - loss: 542580.8125 - accuracy: 0.0000e+00\n",
            "Epoch 52/100\n",
            "239/239 [==============================] - 1s 2ms/step - loss: 541432.4375 - accuracy: 0.0000e+00\n",
            "Epoch 53/100\n",
            "239/239 [==============================] - 1s 2ms/step - loss: 548304.5625 - accuracy: 0.0000e+00\n",
            "Epoch 54/100\n",
            "239/239 [==============================] - 1s 2ms/step - loss: 538872.1250 - accuracy: 0.0000e+00\n",
            "Epoch 55/100\n",
            "239/239 [==============================] - 1s 2ms/step - loss: 543977.6875 - accuracy: 0.0000e+00\n",
            "Epoch 56/100\n",
            "239/239 [==============================] - 1s 2ms/step - loss: 543255.5000 - accuracy: 0.0000e+00\n",
            "Epoch 57/100\n",
            "239/239 [==============================] - 1s 2ms/step - loss: 532108.5000 - accuracy: 0.0000e+00\n",
            "Epoch 58/100\n",
            "239/239 [==============================] - 1s 2ms/step - loss: 528393.6875 - accuracy: 0.0000e+00\n",
            "Epoch 59/100\n",
            "239/239 [==============================] - 1s 2ms/step - loss: 533794.5000 - accuracy: 0.0000e+00\n",
            "Epoch 60/100\n",
            "239/239 [==============================] - 1s 2ms/step - loss: 531630.8750 - accuracy: 0.0000e+00\n",
            "Epoch 61/100\n",
            "239/239 [==============================] - 1s 2ms/step - loss: 538244.2500 - accuracy: 0.0000e+00\n",
            "Epoch 62/100\n",
            "239/239 [==============================] - 1s 2ms/step - loss: 543690.0000 - accuracy: 0.0000e+00\n",
            "Epoch 63/100\n",
            "239/239 [==============================] - 1s 2ms/step - loss: 526573.5000 - accuracy: 0.0000e+00\n",
            "Epoch 64/100\n",
            "239/239 [==============================] - 1s 2ms/step - loss: 533217.2500 - accuracy: 0.0000e+00\n",
            "Epoch 65/100\n",
            "239/239 [==============================] - 1s 2ms/step - loss: 525470.6250 - accuracy: 0.0000e+00\n",
            "Epoch 66/100\n",
            "239/239 [==============================] - 1s 2ms/step - loss: 533504.8750 - accuracy: 0.0000e+00\n",
            "Epoch 67/100\n",
            "239/239 [==============================] - 1s 2ms/step - loss: 536916.3750 - accuracy: 0.0000e+00\n",
            "Epoch 68/100\n",
            "239/239 [==============================] - 1s 2ms/step - loss: 529031.6875 - accuracy: 0.0000e+00\n",
            "Epoch 69/100\n",
            "239/239 [==============================] - 1s 2ms/step - loss: 524391.5000 - accuracy: 0.0000e+00\n",
            "Epoch 70/100\n",
            "239/239 [==============================] - 1s 2ms/step - loss: 529933.9375 - accuracy: 0.0000e+00\n",
            "Epoch 71/100\n",
            "239/239 [==============================] - 1s 2ms/step - loss: 530355.3750 - accuracy: 0.0000e+00\n",
            "Epoch 72/100\n",
            "239/239 [==============================] - 1s 2ms/step - loss: 522300.9375 - accuracy: 0.0000e+00\n",
            "Epoch 73/100\n",
            "239/239 [==============================] - 1s 2ms/step - loss: 530508.3125 - accuracy: 0.0000e+00\n",
            "Epoch 74/100\n",
            "239/239 [==============================] - 1s 2ms/step - loss: 534330.1875 - accuracy: 0.0000e+00\n",
            "Epoch 75/100\n",
            "239/239 [==============================] - 1s 2ms/step - loss: 529472.1250 - accuracy: 0.0000e+00\n",
            "Epoch 76/100\n",
            "239/239 [==============================] - 1s 2ms/step - loss: 520415.3125 - accuracy: 0.0000e+00\n",
            "Epoch 77/100\n",
            "239/239 [==============================] - 1s 2ms/step - loss: 524832.8125 - accuracy: 0.0000e+00\n",
            "Epoch 78/100\n",
            "239/239 [==============================] - 1s 2ms/step - loss: 525000.4375 - accuracy: 0.0000e+00\n",
            "Epoch 79/100\n",
            "239/239 [==============================] - 1s 2ms/step - loss: 529024.8125 - accuracy: 0.0000e+00\n",
            "Epoch 80/100\n",
            "239/239 [==============================] - 1s 2ms/step - loss: 516772.0625 - accuracy: 0.0000e+00\n",
            "Epoch 81/100\n",
            "239/239 [==============================] - 1s 2ms/step - loss: 524200.1875 - accuracy: 0.0000e+00\n",
            "Epoch 82/100\n",
            "239/239 [==============================] - 1s 2ms/step - loss: 518435.9062 - accuracy: 0.0000e+00\n",
            "Epoch 83/100\n",
            "239/239 [==============================] - 1s 2ms/step - loss: 523703.0000 - accuracy: 0.0000e+00\n",
            "Epoch 84/100\n",
            "239/239 [==============================] - 1s 2ms/step - loss: 520106.4062 - accuracy: 0.0000e+00\n",
            "Epoch 85/100\n",
            "239/239 [==============================] - 1s 2ms/step - loss: 521610.6562 - accuracy: 0.0000e+00\n",
            "Epoch 86/100\n",
            "239/239 [==============================] - 1s 2ms/step - loss: 519903.4375 - accuracy: 0.0000e+00\n",
            "Epoch 87/100\n",
            "239/239 [==============================] - 1s 2ms/step - loss: 521109.3438 - accuracy: 0.0000e+00\n",
            "Epoch 88/100\n",
            "239/239 [==============================] - 1s 2ms/step - loss: 520189.2812 - accuracy: 0.0000e+00\n",
            "Epoch 89/100\n",
            "239/239 [==============================] - 1s 2ms/step - loss: 520588.7188 - accuracy: 0.0000e+00\n",
            "Epoch 90/100\n",
            "239/239 [==============================] - 1s 2ms/step - loss: 523021.2812 - accuracy: 0.0000e+00\n",
            "Epoch 91/100\n",
            "239/239 [==============================] - 1s 2ms/step - loss: 523053.7812 - accuracy: 0.0000e+00\n",
            "Epoch 92/100\n",
            "239/239 [==============================] - 1s 2ms/step - loss: 516837.0938 - accuracy: 0.0000e+00\n",
            "Epoch 93/100\n",
            "239/239 [==============================] - 1s 2ms/step - loss: 519465.4062 - accuracy: 0.0000e+00\n",
            "Epoch 94/100\n",
            "239/239 [==============================] - 1s 2ms/step - loss: 526249.4375 - accuracy: 0.0000e+00\n",
            "Epoch 95/100\n",
            "239/239 [==============================] - 1s 2ms/step - loss: 518074.7188 - accuracy: 0.0000e+00\n",
            "Epoch 96/100\n",
            "239/239 [==============================] - 1s 2ms/step - loss: 515427.2500 - accuracy: 0.0000e+00\n",
            "Epoch 97/100\n",
            "239/239 [==============================] - 1s 2ms/step - loss: 516970.0625 - accuracy: 0.0000e+00\n",
            "Epoch 98/100\n",
            "239/239 [==============================] - 1s 2ms/step - loss: 521811.5000 - accuracy: 0.0000e+00\n",
            "Epoch 99/100\n",
            "239/239 [==============================] - 1s 2ms/step - loss: 520402.3750 - accuracy: 0.0000e+00\n",
            "Epoch 100/100\n",
            "239/239 [==============================] - 1s 2ms/step - loss: 517783.9688 - accuracy: 0.0000e+00\n"
          ],
          "name": "stdout"
        }
      ]
    },
    {
      "cell_type": "code",
      "metadata": {
        "id": "AKZwp43sryXf",
        "colab_type": "code",
        "colab": {
          "base_uri": "https://localhost:8080/",
          "height": 295
        },
        "outputId": "c1a1cd49-ad91-4e60-ec72-6b524dae7ba9"
      },
      "source": [
        "plt.plot(predict_zone02.history['loss'])\n",
        "plt.plot(predict_zone02.history['accuracy'])\n",
        "plt.title('Loss & Validation Zone 2')\n",
        "plt.xlabel('epochs')\n",
        "plt.ylabel('Loss & Validation')\n",
        "plt.legend(['loss', 'val'], loc='upper right')\n",
        "plt.show()"
      ],
      "execution_count": 16,
      "outputs": [
        {
          "output_type": "display_data",
          "data": {
            "image/png": "[encoded data removed]",
            "text/plain": [
              "<Figure size 432x288 with 1 Axes>"
            ]
          },
          "metadata": {
            "tags": [],
            "needs_background": "light"
          }
        }
      ]
    },
    {
      "cell_type": "code",
      "metadata": {
        "id": "2H35okQAA4vC",
        "colab_type": "code",
        "colab": {
          "base_uri": "https://localhost:8080/",
          "height": 281
        },
        "outputId": "c658ea7a-419c-4094-c62b-8338a360b3cd"
      },
      "source": [
        "plt.plot(y_test)\n",
        "plt.plot(predict_zone02.model.predict(X_test))\n",
        "plt.title('Predict Zone 2')\n",
        "plt.legend(['Real', 'Pre'], loc='upper right')\n",
        "plt.show()"
      ],
      "execution_count": 17,
      "outputs": [
        {
          "output_type": "display_data",
          "data": {
            "image/png": "[encoded data removed]",
            "text/plain": [
              "<Figure size 432x288 with 1 Axes>"
            ]
          },
          "metadata": {
            "tags": [],
            "needs_background": "light"
          }
        }
      ]
    },
    {
      "cell_type": "markdown",
      "metadata": {
        "id": "okSTUQTHsrJP",
        "colab_type": "text"
      },
      "source": [
        "Create train for zone 03"
      ]
    },
    {
      "cell_type": "code",
      "metadata": {
        "id": "legVvS-Bsjz1",
        "colab_type": "code",
        "colab": {
          "base_uri": "https://localhost:8080/",
          "height": 318
        },
        "outputId": "6736db35-a8ca-47fd-fc16-d156c8191c74"
      },
      "source": [
        "zOne3 = df_train[df_train.ZONE_CODE == 2]\n",
        "zOne3_grby = zOne3.groupby('UPDATE_TIME').mean()\n",
        "zOne3_grby.plot()\n",
        "\n",
        "X = zOne3.drop(['BANDWIDTH_TOTAL', 'UPDATE_TIME'], axis=1).values\n",
        "y = zOne3.drop(['UPDATE_TIME', 'MAX_USER', 'ZONE_CODE', 'HOUR_ID'], axis=1).values\n",
        "X_train, X_test, y_train, y_test = train_test_split(X, y, test_size=0.3, random_state=42)\n",
        "print(X_train.shape, y_train.shape)\n",
        "\n",
        "X_train = X_train.reshape(X_train.shape[0], X_train.shape[1], 1)\n",
        "X_test = X_test.reshape(X_test.shape[0], X_test.shape[1], 1)\n",
        "print(X_train.shape)"
      ],
      "execution_count": 18,
      "outputs": [
        {
          "output_type": "stream",
          "text": [
            "(8433, 3) (8433, 1)\n",
            "(8433, 3, 1)\n"
          ],
          "name": "stdout"
        },
        {
          "output_type": "display_data",
          "data": {
            "image/png": "[encoded data removed]",
            "text/plain": [
              "<Figure size 432x288 with 1 Axes>"
            ]
          },
          "metadata": {
            "tags": [],
            "needs_background": "light"
          }
        }
      ]
    },
    {
      "cell_type": "code",
      "metadata": {
        "id": "2ZB8fpwCs79Y",
        "colab_type": "code",
        "colab": {
          "base_uri": "https://localhost:8080/",
          "height": 1000
        },
        "outputId": "3177ea8c-2c63-4b19-aaba-5d0a5e733f20"
      },
      "source": [
        "predict_zone03 = model.fit(X_train, y_train, epochs=epoch, verbose=1)"
      ],
      "execution_count": 19,
      "outputs": [
        {
          "output_type": "stream",
          "text": [
            "Epoch 1/100\n",
            "264/264 [==============================] - 1s 2ms/step - loss: 565969.7500 - accuracy: 0.0000e+00\n",
            "Epoch 2/100\n",
            "264/264 [==============================] - 1s 2ms/step - loss: 396577.2812 - accuracy: 0.0000e+00\n",
            "Epoch 3/100\n",
            "264/264 [==============================] - 1s 2ms/step - loss: 364295.8438 - accuracy: 0.0000e+00\n",
            "Epoch 4/100\n",
            "264/264 [==============================] - 1s 2ms/step - loss: 339260.8125 - accuracy: 0.0000e+00\n",
            "Epoch 5/100\n",
            "264/264 [==============================] - 1s 2ms/step - loss: 322194.6875 - accuracy: 0.0000e+00\n",
            "Epoch 6/100\n",
            "264/264 [==============================] - 1s 2ms/step - loss: 316039.0312 - accuracy: 0.0000e+00\n",
            "Epoch 7/100\n",
            "264/264 [==============================] - 1s 2ms/step - loss: 310116.9062 - accuracy: 0.0000e+00\n",
            "Epoch 8/100\n",
            "264/264 [==============================] - 1s 2ms/step - loss: 306990.5312 - accuracy: 0.0000e+00\n",
            "Epoch 9/100\n",
            "264/264 [==============================] - 1s 2ms/step - loss: 307625.3125 - accuracy: 0.0000e+00\n",
            "Epoch 10/100\n",
            "264/264 [==============================] - 1s 2ms/step - loss: 305541.0938 - accuracy: 0.0000e+00\n",
            "Epoch 11/100\n",
            "264/264 [==============================] - 1s 2ms/step - loss: 307387.0938 - accuracy: 0.0000e+00\n",
            "Epoch 12/100\n",
            "264/264 [==============================] - 1s 2ms/step - loss: 301943.2500 - accuracy: 0.0000e+00\n",
            "Epoch 13/100\n",
            "264/264 [==============================] - 1s 2ms/step - loss: 296141.0625 - accuracy: 0.0000e+00\n",
            "Epoch 14/100\n",
            "264/264 [==============================] - 1s 2ms/step - loss: 295772.0000 - accuracy: 0.0000e+00\n",
            "Epoch 15/100\n",
            "264/264 [==============================] - 1s 2ms/step - loss: 290363.2500 - accuracy: 0.0000e+00\n",
            "Epoch 16/100\n",
            "264/264 [==============================] - 1s 2ms/step - loss: 287454.7500 - accuracy: 0.0000e+00\n",
            "Epoch 17/100\n",
            "264/264 [==============================] - 1s 2ms/step - loss: 289350.1250 - accuracy: 0.0000e+00\n",
            "Epoch 18/100\n",
            "264/264 [==============================] - 1s 2ms/step - loss: 286298.7812 - accuracy: 0.0000e+00\n",
            "Epoch 19/100\n",
            "264/264 [==============================] - 1s 2ms/step - loss: 284789.3438 - accuracy: 0.0000e+00\n",
            "Epoch 20/100\n",
            "264/264 [==============================] - 1s 2ms/step - loss: 283112.6875 - accuracy: 0.0000e+00\n",
            "Epoch 21/100\n",
            "264/264 [==============================] - 1s 2ms/step - loss: 285725.5000 - accuracy: 0.0000e+00\n",
            "Epoch 22/100\n",
            "264/264 [==============================] - 1s 2ms/step - loss: 283286.1562 - accuracy: 0.0000e+00\n",
            "Epoch 23/100\n",
            "264/264 [==============================] - 1s 2ms/step - loss: 281896.8125 - accuracy: 0.0000e+00\n",
            "Epoch 24/100\n",
            "264/264 [==============================] - 1s 2ms/step - loss: 287189.2188 - accuracy: 0.0000e+00\n",
            "Epoch 25/100\n",
            "264/264 [==============================] - 1s 2ms/step - loss: 283652.6562 - accuracy: 0.0000e+00\n",
            "Epoch 26/100\n",
            "264/264 [==============================] - 1s 2ms/step - loss: 278663.6250 - accuracy: 0.0000e+00\n",
            "Epoch 27/100\n",
            "264/264 [==============================] - 1s 2ms/step - loss: 283784.0312 - accuracy: 0.0000e+00\n",
            "Epoch 28/100\n",
            "264/264 [==============================] - 1s 2ms/step - loss: 286017.8438 - accuracy: 0.0000e+00\n",
            "Epoch 29/100\n",
            "264/264 [==============================] - 1s 2ms/step - loss: 281084.5938 - accuracy: 0.0000e+00\n",
            "Epoch 30/100\n",
            "264/264 [==============================] - 1s 2ms/step - loss: 282623.3438 - accuracy: 0.0000e+00\n",
            "Epoch 31/100\n",
            "264/264 [==============================] - 1s 2ms/step - loss: 283538.4375 - accuracy: 0.0000e+00\n",
            "Epoch 32/100\n",
            "264/264 [==============================] - 1s 2ms/step - loss: 281313.3125 - accuracy: 0.0000e+00\n",
            "Epoch 33/100\n",
            "264/264 [==============================] - 1s 2ms/step - loss: 278399.7500 - accuracy: 0.0000e+00\n",
            "Epoch 34/100\n",
            "264/264 [==============================] - 1s 2ms/step - loss: 286368.4062 - accuracy: 0.0000e+00\n",
            "Epoch 35/100\n",
            "264/264 [==============================] - 1s 2ms/step - loss: 277379.5625 - accuracy: 0.0000e+00\n",
            "Epoch 36/100\n",
            "264/264 [==============================] - 1s 2ms/step - loss: 278990.5000 - accuracy: 0.0000e+00\n",
            "Epoch 37/100\n",
            "264/264 [==============================] - 1s 2ms/step - loss: 279123.6250 - accuracy: 0.0000e+00\n",
            "Epoch 38/100\n",
            "264/264 [==============================] - 1s 2ms/step - loss: 280019.8750 - accuracy: 0.0000e+00\n",
            "Epoch 39/100\n",
            "264/264 [==============================] - 1s 2ms/step - loss: 277649.7188 - accuracy: 0.0000e+00\n",
            "Epoch 40/100\n",
            "264/264 [==============================] - 1s 2ms/step - loss: 282083.5312 - accuracy: 0.0000e+00\n",
            "Epoch 41/100\n",
            "264/264 [==============================] - 1s 2ms/step - loss: 278528.5938 - accuracy: 0.0000e+00\n",
            "Epoch 42/100\n",
            "264/264 [==============================] - 1s 2ms/step - loss: 278191.2812 - accuracy: 0.0000e+00\n",
            "Epoch 43/100\n",
            "264/264 [==============================] - 1s 2ms/step - loss: 278586.8125 - accuracy: 0.0000e+00\n",
            "Epoch 44/100\n",
            "264/264 [==============================] - 1s 2ms/step - loss: 277114.9688 - accuracy: 0.0000e+00\n",
            "Epoch 45/100\n",
            "264/264 [==============================] - 1s 2ms/step - loss: 282666.3750 - accuracy: 0.0000e+00\n",
            "Epoch 46/100\n",
            "264/264 [==============================] - 1s 2ms/step - loss: 279731.8750 - accuracy: 0.0000e+00\n",
            "Epoch 47/100\n",
            "264/264 [==============================] - 1s 2ms/step - loss: 277838.1875 - accuracy: 0.0000e+00\n",
            "Epoch 48/100\n",
            "264/264 [==============================] - 1s 2ms/step - loss: 277378.2812 - accuracy: 0.0000e+00\n",
            "Epoch 49/100\n",
            "264/264 [==============================] - 1s 2ms/step - loss: 278952.3750 - accuracy: 0.0000e+00\n",
            "Epoch 50/100\n",
            "264/264 [==============================] - 1s 2ms/step - loss: 281598.7500 - accuracy: 0.0000e+00\n",
            "Epoch 51/100\n",
            "264/264 [==============================] - 1s 2ms/step - loss: 276955.4062 - accuracy: 0.0000e+00\n",
            "Epoch 52/100\n",
            "264/264 [==============================] - 1s 2ms/step - loss: 279432.8750 - accuracy: 0.0000e+00\n",
            "Epoch 53/100\n",
            "264/264 [==============================] - 1s 2ms/step - loss: 281039.4688 - accuracy: 0.0000e+00\n",
            "Epoch 54/100\n",
            "264/264 [==============================] - 1s 2ms/step - loss: 278609.9062 - accuracy: 0.0000e+00\n",
            "Epoch 55/100\n",
            "264/264 [==============================] - 1s 2ms/step - loss: 274786.7812 - accuracy: 0.0000e+00\n",
            "Epoch 56/100\n",
            "264/264 [==============================] - 1s 2ms/step - loss: 275616.6875 - accuracy: 0.0000e+00\n",
            "Epoch 57/100\n",
            "264/264 [==============================] - 1s 3ms/step - loss: 276485.5625 - accuracy: 0.0000e+00\n",
            "Epoch 58/100\n",
            "264/264 [==============================] - 1s 2ms/step - loss: 276930.0625 - accuracy: 0.0000e+00\n",
            "Epoch 59/100\n",
            "264/264 [==============================] - 1s 2ms/step - loss: 282601.6562 - accuracy: 0.0000e+00\n",
            "Epoch 60/100\n",
            "264/264 [==============================] - 1s 2ms/step - loss: 277423.3125 - accuracy: 0.0000e+00\n",
            "Epoch 61/100\n",
            "264/264 [==============================] - 1s 2ms/step - loss: 277870.9062 - accuracy: 0.0000e+00\n",
            "Epoch 62/100\n",
            "264/264 [==============================] - 1s 2ms/step - loss: 277635.4375 - accuracy: 0.0000e+00\n",
            "Epoch 63/100\n",
            "264/264 [==============================] - 1s 2ms/step - loss: 279255.0938 - accuracy: 0.0000e+00\n",
            "Epoch 64/100\n",
            "264/264 [==============================] - 1s 2ms/step - loss: 282433.3438 - accuracy: 0.0000e+00\n",
            "Epoch 65/100\n",
            "264/264 [==============================] - 1s 2ms/step - loss: 278651.5625 - accuracy: 0.0000e+00\n",
            "Epoch 66/100\n",
            "264/264 [==============================] - 1s 2ms/step - loss: 276253.2188 - accuracy: 0.0000e+00\n",
            "Epoch 67/100\n",
            "264/264 [==============================] - 1s 2ms/step - loss: 281590.8125 - accuracy: 0.0000e+00\n",
            "Epoch 68/100\n",
            "264/264 [==============================] - 1s 2ms/step - loss: 278762.4375 - accuracy: 0.0000e+00\n",
            "Epoch 69/100\n",
            "264/264 [==============================] - 1s 2ms/step - loss: 274926.6562 - accuracy: 0.0000e+00\n",
            "Epoch 70/100\n",
            "264/264 [==============================] - 1s 2ms/step - loss: 276300.5938 - accuracy: 0.0000e+00\n",
            "Epoch 71/100\n",
            "264/264 [==============================] - 1s 2ms/step - loss: 276682.9062 - accuracy: 0.0000e+00\n",
            "Epoch 72/100\n",
            "264/264 [==============================] - 1s 2ms/step - loss: 276433.7812 - accuracy: 0.0000e+00\n",
            "Epoch 73/100\n",
            "264/264 [==============================] - 1s 2ms/step - loss: 274687.1250 - accuracy: 0.0000e+00\n",
            "Epoch 74/100\n",
            "264/264 [==============================] - 1s 2ms/step - loss: 276185.2812 - accuracy: 0.0000e+00\n",
            "Epoch 75/100\n",
            "264/264 [==============================] - 1s 2ms/step - loss: 277678.7500 - accuracy: 0.0000e+00\n",
            "Epoch 76/100\n",
            "264/264 [==============================] - 1s 2ms/step - loss: 274293.0000 - accuracy: 0.0000e+00\n",
            "Epoch 77/100\n",
            "264/264 [==============================] - 1s 2ms/step - loss: 275886.1250 - accuracy: 0.0000e+00\n",
            "Epoch 78/100\n",
            "264/264 [==============================] - 1s 2ms/step - loss: 275410.2188 - accuracy: 0.0000e+00\n",
            "Epoch 79/100\n",
            "264/264 [==============================] - 1s 2ms/step - loss: 272886.5625 - accuracy: 0.0000e+00\n",
            "Epoch 80/100\n",
            "264/264 [==============================] - 1s 2ms/step - loss: 277002.5312 - accuracy: 0.0000e+00\n",
            "Epoch 81/100\n",
            "264/264 [==============================] - 1s 2ms/step - loss: 273409.4062 - accuracy: 0.0000e+00\n",
            "Epoch 82/100\n",
            "264/264 [==============================] - 1s 2ms/step - loss: 275460.2188 - accuracy: 0.0000e+00\n",
            "Epoch 83/100\n",
            "264/264 [==============================] - 1s 2ms/step - loss: 274243.8438 - accuracy: 0.0000e+00\n",
            "Epoch 84/100\n",
            "264/264 [==============================] - 1s 2ms/step - loss: 272468.7500 - accuracy: 0.0000e+00\n",
            "Epoch 85/100\n",
            "264/264 [==============================] - 1s 2ms/step - loss: 276755.5625 - accuracy: 0.0000e+00\n",
            "Epoch 86/100\n",
            "264/264 [==============================] - 1s 2ms/step - loss: 274482.3750 - accuracy: 0.0000e+00\n",
            "Epoch 87/100\n",
            "264/264 [==============================] - 1s 2ms/step - loss: 275143.8438 - accuracy: 0.0000e+00\n",
            "Epoch 88/100\n",
            "264/264 [==============================] - 1s 2ms/step - loss: 273610.4688 - accuracy: 0.0000e+00\n",
            "Epoch 89/100\n",
            "264/264 [==============================] - 1s 2ms/step - loss: 274368.8750 - accuracy: 0.0000e+00\n",
            "Epoch 90/100\n",
            "264/264 [==============================] - 1s 2ms/step - loss: 275120.9062 - accuracy: 0.0000e+00\n",
            "Epoch 91/100\n",
            "264/264 [==============================] - 1s 2ms/step - loss: 274916.0312 - accuracy: 0.0000e+00\n",
            "Epoch 92/100\n",
            "264/264 [==============================] - 1s 2ms/step - loss: 276675.0938 - accuracy: 0.0000e+00\n",
            "Epoch 93/100\n",
            "264/264 [==============================] - 1s 2ms/step - loss: 277656.9375 - accuracy: 0.0000e+00\n",
            "Epoch 94/100\n",
            "264/264 [==============================] - 1s 2ms/step - loss: 279803.3125 - accuracy: 0.0000e+00\n",
            "Epoch 95/100\n",
            "264/264 [==============================] - 1s 2ms/step - loss: 276884.4375 - accuracy: 0.0000e+00\n",
            "Epoch 96/100\n",
            "264/264 [==============================] - 1s 2ms/step - loss: 272883.1562 - accuracy: 0.0000e+00\n",
            "Epoch 97/100\n",
            "264/264 [==============================] - 1s 2ms/step - loss: 275882.0625 - accuracy: 0.0000e+00\n",
            "Epoch 98/100\n",
            "264/264 [==============================] - 1s 2ms/step - loss: 273445.5938 - accuracy: 0.0000e+00\n",
            "Epoch 99/100\n",
            "264/264 [==============================] - 1s 2ms/step - loss: 272561.6562 - accuracy: 0.0000e+00\n",
            "Epoch 100/100\n",
            "264/264 [==============================] - 1s 2ms/step - loss: 272323.7188 - accuracy: 0.0000e+00\n"
          ],
          "name": "stdout"
        }
      ]
    },
    {
      "cell_type": "code",
      "metadata": {
        "id": "M68wb4NQtDwU",
        "colab_type": "code",
        "colab": {
          "base_uri": "https://localhost:8080/",
          "height": 295
        },
        "outputId": "36f8c9be-678a-4260-c42f-a498b5b2a556"
      },
      "source": [
        "plt.plot(predict_zone03.history['loss'])\n",
        "plt.plot(predict_zone03.history['accuracy'])\n",
        "plt.title('Loss & Validation Zone 3')\n",
        "plt.xlabel('epochs')\n",
        "plt.ylabel('Loss & Validation')\n",
        "plt.legend(['loss', 'val'], loc='upper right')\n",
        "plt.show()"
      ],
      "execution_count": 20,
      "outputs": [
        {
          "output_type": "display_data",
          "data": {
            "image/png": "[encoded data removed]",
            "text/plain": [
              "<Figure size 432x288 with 1 Axes>"
            ]
          },
          "metadata": {
            "tags": [],
            "needs_background": "light"
          }
        }
      ]
    },
    {
      "cell_type": "code",
      "metadata": {
        "id": "Z2MXQ-h5tLCz",
        "colab_type": "code",
        "colab": {
          "base_uri": "https://localhost:8080/",
          "height": 281
        },
        "outputId": "33396b51-423b-460b-db0f-52fd89094acc"
      },
      "source": [
        "plt.plot(y_test)\n",
        "# plt.plot(predict_zone03.model.predict(X_test))\n",
        "plt.title('Predict Zone 3')\n",
        "plt.legend(['Real', 'Pre'], loc='upper right')\n",
        "plt.show()"
      ],
      "execution_count": 22,
      "outputs": [
        {
          "output_type": "display_data",
          "data": {
            "image/png": "[encoded data removed]",
            "text/plain": [
              "<Figure size 432x288 with 1 Axes>"
            ]
          },
          "metadata": {
            "tags": [],
            "needs_background": "light"
          }
        }
      ]
    },
    {
      "cell_type": "code",
      "metadata": {
        "id": "p6eG0EM9X-z-",
        "colab_type": "code",
        "colab": {}
      },
      "source": [
        ""
      ],
      "execution_count": 21,
      "outputs": []
    }
  ]
}